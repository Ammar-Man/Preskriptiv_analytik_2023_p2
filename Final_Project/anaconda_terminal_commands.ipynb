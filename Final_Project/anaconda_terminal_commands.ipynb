{
 "cells": [
  {
   "cell_type": "code",
   "execution_count": 1,
   "metadata": {},
   "outputs": [],
   "source": [
    "# # Finale projekt \n",
    "# cd /d D:\\2024\\Period 1\\Autonoma Agenter\\lektion 3\\Exemple 4 Egen\\Training_Walker\n",
    "# # RobotTestBuild18C5 sista test\n",
    "# # to start conda \n",
    "# conda activate mlagents2 "
   ]
  },
  {
   "cell_type": "code",
   "execution_count": 2,
   "metadata": {},
   "outputs": [],
   "source": [
    "# # visa visualisering resultat \n",
    "# tensorboard --logdir results --port 5004"
   ]
  },
  {
   "cell_type": "code",
   "execution_count": null,
   "metadata": {},
   "outputs": [],
   "source": [
    "# # Start game in unity\n",
    "# mlagents-learn config.yml --run-id=\"RobotTestBuild18C3\" --time-scale=5  --resume"
   ]
  },
  {
   "cell_type": "code",
   "execution_count": null,
   "metadata": {},
   "outputs": [],
   "source": [
    "# # 10  med skärm\n",
    "# mlagents-learn config.yml --run-id=\"MyAi-5\" --env=\"D:\\2024\\Period 1\\Autonoma Agenter\\lektion 3\\Exemple 4 Egen\\Training\\newBuild\\Exemple 3 auto drive car.exe\" --width=800 --height=512 --time-scale=10 --num-envs=1 --resume"
   ]
  },
  {
   "cell_type": "code",
   "execution_count": null,
   "metadata": {},
   "outputs": [],
   "source": [
    "# # 10  utan skärm\n",
    "# mlagents-learn config.yml --run-id=\"RobotTestBuild18C3\" --env=\"D:\\2024\\Period 1\\Autonoma Agenter\\Projekt1\\ArmRobot\\Training\\build4X\\ArmRobot.exe\" --no-graphics --time-scale=5 --num-envs=5 --resume"
   ]
  },
  {
   "cell_type": "code",
   "execution_count": null,
   "metadata": {},
   "outputs": [],
   "source": [
    "# # build\n",
    "# # 10 X 10 gånger snabbare utan screen\n",
    "# mlagents-learn config.yml --run-id=\"MyAi-walker\" --env=\"D:\\2024\\Period 1\\Autonoma Agenter\\lektion 3\\Exemple 4 Egen\\Training_Walker\\newBuild\\Exemple 3 auto drive car.exe\" --no-graphics --time-scale=10 --num-envs=5\n"
   ]
  },
  {
   "cell_type": "markdown",
   "metadata": {},
   "source": [
    "Instruktioner för att sätta upp ML Agents Toolkit och ml-agents trainer API\n"
   ]
  },
  {
   "cell_type": "code",
   "execution_count": null,
   "metadata": {},
   "outputs": [],
   "source": [
    "# Installera ML Agents toolkit 2.3.0 i Unity\n",
    "\n",
    "#          Window->Packe Manager\n",
    "\n",
    "#          Tryck på + och “Install from Git URL”\n",
    "\n",
    "#          Kopiera in följande länk i URL-rutan: \n",
    "\n",
    "# git+https://github.com/Unity-Technologies/ml-agents.git?path=com.unity.ml-agents#release_20\n",
    "\n",
    " \n",
    "\n",
    " \n",
    "\n",
    "# ML Agents trainer API (installera i Anaconda)\n",
    "\n",
    "# conda create -n mlagentsUnity python=3.8.13\n",
    "\n",
    "# conda activate mlagentsUnity\n",
    "\n",
    "# pip install torch==1.8.0\n",
    "\n",
    "# pip install mlagents==0.30.0"
   ]
  },
  {
   "cell_type": "markdown",
   "metadata": {},
   "source": [
    "The Unity Machine Learning Agents Toolkit: \n",
    "\n",
    "https://github.com/Unity-Technologies/ml-agents/tree/develop/config/ppo"
   ]
  }
 ],
 "metadata": {
  "kernelspec": {
   "display_name": "Python 3",
   "language": "python",
   "name": "python3"
  },
  "language_info": {
   "codemirror_mode": {
    "name": "ipython",
    "version": 3
   },
   "file_extension": ".py",
   "mimetype": "text/x-python",
   "name": "python",
   "nbconvert_exporter": "python",
   "pygments_lexer": "ipython3",
   "version": "3.10.0"
  }
 },
 "nbformat": 4,
 "nbformat_minor": 2
}
