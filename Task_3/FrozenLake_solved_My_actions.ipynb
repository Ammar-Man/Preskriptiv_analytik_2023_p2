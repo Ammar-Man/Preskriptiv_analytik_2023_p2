{
 "cells": [
  {
   "cell_type": "markdown",
   "id": "3c67b3db",
   "metadata": {},
   "source": [
    "# FrozenLake\n",
    "Read more at:\n",
    "\n",
    "https://medium.com/swlh/frozen-lake-as-a-markov-decision-process-1692815ecfd1\n",
    "\n",
    "\n",
    "https://zoo.cs.yale.edu/classes/cs470/materials/hws/hw7/FrozenLake.html\n",
    "\n",
    "Documentation:\n",
    "https://gymnasium.farama.org/environments/toy_text/frozen_lake/"
   ]
  },
  {
   "cell_type": "code",
   "execution_count": 7,
   "id": "e6387b13",
   "metadata": {},
   "outputs": [],
   "source": [
    "# frozen-lake-ex3.py\n",
    "import gymnasium as gym\n",
    "from gymnasium.envs.toy_text.frozen_lake import generate_random_map\n",
    "\n",
    "# Actions in human language\n",
    "actions = {\n",
    "    'Left': 0,\n",
    "    'Down': 1,\n",
    "    'Right': 2, \n",
    "    'Up': 3\n",
    "}"
   ]
  },
  {
   "cell_type": "code",
   "execution_count": 8,
   "id": "6dc35318",
   "metadata": {},
   "outputs": [],
   "source": [
    "# Variabler\n",
    "slippery=False\n",
    "my_policy = ['Right'] + ['Right'] + ['Down'] + ['Down'] + ['Down'] + ['Right']+ ['Right']+['Down'] + ['Down']+ ['Right']+['Down'] + ['Down']+ ['Right']+ ['Right']"
   ]
  },
  {
   "cell_type": "code",
   "execution_count": 16,
   "id": "b78dd81a",
   "metadata": {},
   "outputs": [],
   "source": [
    "def my_frozenlake(slippery, my_policy):\n",
    "\n",
    "    print(\"--- Super amazing policy that will win! ---\")\n",
    "    print(my_policy)\n",
    "    print(\"Maze is slippery: \", slippery)\n",
    "\n",
    "    # env = gym.make(\"FrozenLake-v1\", is_slippery=slippery, render_mode=\"human\")\n",
    "    env = gym.make('FrozenLake-v1', map_name=\"8x8\", is_slippery=slippery , render_mode=\"human\")\n",
    "    env.reset()\n",
    "    env.render()\n",
    "\n",
    "    for a in my_policy:\n",
    "        new_state, reward, done, truncated, info = env.step(actions[a])\n",
    "        print()\n",
    "        env.render()\n",
    "        print(\"Reward: {:.2f}\".format(reward))\n",
    "        print(\"Action:\",a)\n",
    "        print(info)\n",
    "        print(\"Position:\",new_state)\n",
    "        if done:\n",
    "            if reward == 1:\n",
    "                print(\"****You reached the goal!****\")\n",
    "            else:\n",
    "                print(\"****You fell through a hole!****\")\n",
    "            break\n",
    "    env.close()"
   ]
  },
  {
   "cell_type": "code",
   "execution_count": 17,
   "id": "f7667043",
   "metadata": {},
   "outputs": [
    {
     "name": "stdout",
     "output_type": "stream",
     "text": [
      "--- Super amazing policy that will win! ---\n",
      "['Right', 'Right', 'Down', 'Down', 'Down', 'Right', 'Right', 'Down', 'Down', 'Right', 'Down', 'Down', 'Right', 'Right']\n",
      "Maze is slippery:  False\n",
      "\n",
      "Reward: 0.00\n",
      "Action: Right\n",
      "{'prob': 1.0}\n",
      "Position: 1\n",
      "\n",
      "Reward: 0.00\n",
      "Action: Right\n",
      "{'prob': 1.0}\n",
      "Position: 2\n",
      "\n",
      "Reward: 0.00\n",
      "Action: Down\n",
      "{'prob': 1.0}\n",
      "Position: 10\n",
      "\n",
      "Reward: 0.00\n",
      "Action: Down\n",
      "{'prob': 1.0}\n",
      "Position: 18\n",
      "\n",
      "Reward: 0.00\n",
      "Action: Down\n",
      "{'prob': 1.0}\n",
      "Position: 26\n",
      "\n",
      "Reward: 0.00\n",
      "Action: Right\n",
      "{'prob': 1.0}\n",
      "Position: 27\n",
      "\n",
      "Reward: 0.00\n",
      "Action: Right\n",
      "{'prob': 1.0}\n",
      "Position: 28\n",
      "\n",
      "Reward: 0.00\n",
      "Action: Down\n",
      "{'prob': 1.0}\n",
      "Position: 36\n",
      "\n",
      "Reward: 0.00\n",
      "Action: Down\n",
      "{'prob': 1.0}\n",
      "Position: 44\n",
      "\n",
      "Reward: 0.00\n",
      "Action: Right\n",
      "{'prob': 1.0}\n",
      "Position: 45\n",
      "\n",
      "Reward: 0.00\n",
      "Action: Down\n",
      "{'prob': 1.0}\n",
      "Position: 53\n",
      "\n",
      "Reward: 0.00\n",
      "Action: Down\n",
      "{'prob': 1.0}\n",
      "Position: 61\n",
      "\n",
      "Reward: 0.00\n",
      "Action: Right\n",
      "{'prob': 1.0}\n",
      "Position: 62\n",
      "\n",
      "Reward: 1.00\n",
      "Action: Right\n",
      "{'prob': 1.0}\n",
      "Position: 63\n",
      "****You reached the goal!****\n"
     ]
    }
   ],
   "source": [
    "# Kör functionen!\n",
    "my_frozenlake(slippery, my_policy)"
   ]
  },
  {
   "cell_type": "code",
   "execution_count": null,
   "id": "74639ec4",
   "metadata": {},
   "outputs": [],
   "source": []
  }
 ],
 "metadata": {
  "kernelspec": {
   "display_name": "Python 3 (ipykernel)",
   "language": "python",
   "name": "python3"
  },
  "language_info": {
   "codemirror_mode": {
    "name": "ipython",
    "version": 3
   },
   "file_extension": ".py",
   "mimetype": "text/x-python",
   "name": "python",
   "nbconvert_exporter": "python",
   "pygments_lexer": "ipython3",
   "version": "3.10.0"
  }
 },
 "nbformat": 4,
 "nbformat_minor": 5
}
